{
 "cells": [
  {
   "cell_type": "code",
   "execution_count": 1,
   "metadata": {
    "collapsed": false
   },
   "outputs": [
    {
     "data": {
      "text/plain": [
       "'playing around with dictionaries and understanding it deeper.'"
      ]
     },
     "execution_count": 1,
     "metadata": {},
     "output_type": "execute_result"
    }
   ],
   "source": [
    "\"\"\"playing around with dictionaries and understanding it deeper.\"\"\"\n",
    "\n"
   ]
  },
  {
   "cell_type": "code",
   "execution_count": 2,
   "metadata": {
    "collapsed": true
   },
   "outputs": [],
   "source": [
    "myCat = {'size':'fat','color':'gray','disposition':'loud'}"
   ]
  },
  {
   "cell_type": "code",
   "execution_count": 3,
   "metadata": {
    "collapsed": false
   },
   "outputs": [
    {
     "data": {
      "text/plain": [
       "'fat'"
      ]
     },
     "execution_count": 3,
     "metadata": {},
     "output_type": "execute_result"
    }
   ],
   "source": [
    "myCat['size']"
   ]
  },
  {
   "cell_type": "code",
   "execution_count": 4,
   "metadata": {
    "collapsed": false
   },
   "outputs": [
    {
     "data": {
      "text/plain": [
       "'My cat has gray fur.'"
      ]
     },
     "execution_count": 4,
     "metadata": {},
     "output_type": "execute_result"
    }
   ],
   "source": [
    "'My cat has ' +myCat['color'] +' fur.'"
   ]
  },
  {
   "cell_type": "code",
   "execution_count": 5,
   "metadata": {
    "collapsed": true
   },
   "outputs": [],
   "source": [
    "spam = {12345: ' Luggage Combination', 42: 'The Answer'}"
   ]
  },
  {
   "cell_type": "code",
   "execution_count": 7,
   "metadata": {
    "collapsed": false
   },
   "outputs": [
    {
     "data": {
      "text/plain": [
       "'The Answer'"
      ]
     },
     "execution_count": 7,
     "metadata": {},
     "output_type": "execute_result"
    }
   ],
   "source": [
    "spam[42]"
   ]
  },
  {
   "cell_type": "code",
   "execution_count": 8,
   "metadata": {
    "collapsed": false
   },
   "outputs": [
    {
     "data": {
      "text/plain": [
       "False"
      ]
     },
     "execution_count": 8,
     "metadata": {},
     "output_type": "execute_result"
    }
   ],
   "source": [
    "spam = ['cats','dogs','moose']\n",
    "bacon = ['dogs','moose','cats']\n",
    "spam == bacon"
   ]
  },
  {
   "cell_type": "code",
   "execution_count": 10,
   "metadata": {
    "collapsed": false
   },
   "outputs": [
    {
     "data": {
      "text/plain": [
       "True"
      ]
     },
     "execution_count": 10,
     "metadata": {},
     "output_type": "execute_result"
    }
   ],
   "source": [
    "eggs = {'name':'Zophie','species':'cat','age':'8'}\n",
    "ham  = {'species':'cat','age':'8','name':'Zophie'}\n",
    "eggs==ham"
   ]
  },
  {
   "cell_type": "code",
   "execution_count": 11,
   "metadata": {
    "collapsed": false
   },
   "outputs": [
    {
     "name": "stdout",
     "output_type": "stream",
     "text": [
      "red\n",
      "42\n"
     ]
    }
   ],
   "source": [
    "spam = {'color':'red', 'age':42}\n",
    "for v in spam.values():\n",
    "    print(v)"
   ]
  },
  {
   "cell_type": "code",
   "execution_count": 12,
   "metadata": {
    "collapsed": false
   },
   "outputs": [
    {
     "name": "stdout",
     "output_type": "stream",
     "text": [
      "color\n",
      "age\n"
     ]
    }
   ],
   "source": [
    "for k in spam.keys():\n",
    "    print(k)"
   ]
  },
  {
   "cell_type": "code",
   "execution_count": 13,
   "metadata": {
    "collapsed": false
   },
   "outputs": [
    {
     "name": "stdout",
     "output_type": "stream",
     "text": [
      "('color', 'red')\n",
      "('age', 42)\n"
     ]
    }
   ],
   "source": [
    "for i in spam.items():\n",
    "    print(i)"
   ]
  },
  {
   "cell_type": "code",
   "execution_count": 14,
   "metadata": {
    "collapsed": false
   },
   "outputs": [
    {
     "data": {
      "text/plain": [
       "dict_keys(['color', 'age'])"
      ]
     },
     "execution_count": 14,
     "metadata": {},
     "output_type": "execute_result"
    }
   ],
   "source": [
    "spam.keys()"
   ]
  },
  {
   "cell_type": "code",
   "execution_count": 15,
   "metadata": {
    "collapsed": false
   },
   "outputs": [
    {
     "data": {
      "text/plain": [
       "['color', 'age']"
      ]
     },
     "execution_count": 15,
     "metadata": {},
     "output_type": "execute_result"
    }
   ],
   "source": [
    "list(spam.keys())"
   ]
  },
  {
   "cell_type": "code",
   "execution_count": 18,
   "metadata": {
    "collapsed": false
   },
   "outputs": [
    {
     "name": "stdout",
     "output_type": "stream",
     "text": [
      "Key: color Values: red\n",
      "Key: age Values: 42\n"
     ]
    }
   ],
   "source": [
    "for k,v in spam.items():\n",
    "    print('Key: '+k+' Values: '+str(v))"
   ]
  },
  {
   "cell_type": "code",
   "execution_count": 19,
   "metadata": {
    "collapsed": false
   },
   "outputs": [
    {
     "data": {
      "text/plain": [
       "True"
      ]
     },
     "execution_count": 19,
     "metadata": {},
     "output_type": "execute_result"
    }
   ],
   "source": [
    "'red' in spam.values()"
   ]
  },
  {
   "cell_type": "code",
   "execution_count": 20,
   "metadata": {
    "collapsed": false
   },
   "outputs": [
    {
     "data": {
      "text/plain": [
       "True"
      ]
     },
     "execution_count": 20,
     "metadata": {},
     "output_type": "execute_result"
    }
   ],
   "source": [
    "'color' in spam.keys()"
   ]
  },
  {
   "cell_type": "code",
   "execution_count": 21,
   "metadata": {
    "collapsed": false
   },
   "outputs": [
    {
     "data": {
      "text/plain": [
       "'I am bringing2 cups.'"
      ]
     },
     "execution_count": 21,
     "metadata": {},
     "output_type": "execute_result"
    }
   ],
   "source": [
    "picnicItems = {'apples': 5, 'cups':2}\n",
    "'I am bringing' +str(picnicItems.get('cups',0))+ ' cups.'"
   ]
  },
  {
   "cell_type": "code",
   "execution_count": 26,
   "metadata": {
    "collapsed": false
   },
   "outputs": [
    {
     "data": {
      "text/plain": [
       "'I am bringing 2 cups.'"
      ]
     },
     "execution_count": 26,
     "metadata": {},
     "output_type": "execute_result"
    }
   ],
   "source": [
    "picnicItems = {'apples': 5, 'cups':2}\n",
    "'I am bringing ' +str(picnicItems.get('cups'))+ ' cups.'"
   ]
  },
  {
   "cell_type": "code",
   "execution_count": 28,
   "metadata": {
    "collapsed": false
   },
   "outputs": [
    {
     "data": {
      "text/plain": [
       "'I am bringing 0 cups.'"
      ]
     },
     "execution_count": 28,
     "metadata": {},
     "output_type": "execute_result"
    }
   ],
   "source": [
    "picnicItems = {'apples': 5, 'cups':2}\n",
    "'I am bringing ' +str(picnicItems.get('eggs',0))+ ' cups.'"
   ]
  },
  {
   "cell_type": "code",
   "execution_count": 31,
   "metadata": {
    "collapsed": false
   },
   "outputs": [
    {
     "data": {
      "text/plain": [
       "{'age': 5, 'color': 'black', 'name': 'Pooka'}"
      ]
     },
     "execution_count": 31,
     "metadata": {},
     "output_type": "execute_result"
    }
   ],
   "source": [
    "spam = {'name':'Pooka', 'age': 5}\n",
    "if 'color' not in spam:\n",
    "    spam['color'] = 'black'\n",
    "spam"
   ]
  },
  {
   "cell_type": "code",
   "execution_count": 32,
   "metadata": {
    "collapsed": false
   },
   "outputs": [
    {
     "data": {
      "text/plain": [
       "{'age': 5, 'color': 'black', 'name': 'Pooka'}"
      ]
     },
     "execution_count": 32,
     "metadata": {},
     "output_type": "execute_result"
    }
   ],
   "source": [
    "spam = {'name':'Pooka', 'age': 5}\n",
    "spam.setdefault('color','black')\n",
    "spam"
   ]
  },
  {
   "cell_type": "code",
   "execution_count": 33,
   "metadata": {
    "collapsed": false
   },
   "outputs": [
    {
     "data": {
      "text/plain": [
       "{'age': 5, 'color': 'black', 'name': 'Pooka'}"
      ]
     },
     "execution_count": 33,
     "metadata": {},
     "output_type": "execute_result"
    }
   ],
   "source": [
    "spam.setdefault('color','white')\n",
    "spam"
   ]
  },
  {
   "cell_type": "code",
   "execution_count": 37,
   "metadata": {
    "collapsed": false
   },
   "outputs": [
    {
     "name": "stdout",
     "output_type": "stream",
     "text": [
      "{'I': 0}\n",
      "{'I': 1, 't': 0}\n",
      "{'I': 1, ' ': 0, 't': 1}\n",
      "{'w': 0, 'I': 1, ' ': 1, 't': 1}\n",
      "{'w': 1, 'I': 1, ' ': 1, 't': 1, 'a': 0}\n",
      "{'a': 1, 's': 0, 'w': 1, 't': 1, 'I': 1, ' ': 1}\n",
      "{'a': 1, 's': 1, 'w': 1, 't': 1, 'I': 1, ' ': 1}\n",
      "{'a': 1, 's': 1, 'w': 1, 't': 1, 'I': 1, ' ': 2}\n",
      "{'a': 2, 's': 1, 'w': 1, 't': 1, 'I': 1, ' ': 2}\n",
      "{'a': 2, 's': 1, 'w': 1, 't': 1, 'I': 1, 'b': 0, ' ': 3}\n",
      "{'a': 2, 's': 1, 'w': 1, 't': 1, 'I': 1, 'b': 1, 'r': 0, ' ': 3}\n",
      "{'a': 2, 's': 1, 'i': 0, 'w': 1, 't': 1, 'I': 1, 'b': 1, 'r': 1, ' ': 3}\n",
      "{'a': 2, 's': 1, 'i': 1, 'w': 1, 't': 1, 'I': 1, 'b': 1, 'g': 0, 'r': 1, ' ': 3}\n",
      "{'a': 2, 's': 1, 'i': 1, 'w': 1, 't': 1, 'h': 0, 'I': 1, 'b': 1, 'g': 1, 'r': 1, ' ': 3}\n",
      "{'a': 2, 's': 1, 'i': 1, 'w': 1, 't': 1, 'h': 1, 'I': 1, 'b': 1, 'g': 1, 'r': 1, ' ': 3}\n",
      "{'a': 2, 's': 1, 'i': 1, 'w': 1, 't': 2, 'h': 1, 'I': 1, 'b': 1, 'g': 1, 'r': 1, ' ': 3}\n",
      "{'s': 1, 'i': 1, 'h': 1, ' ': 4, 'a': 2, 'r': 1, 'I': 1, 'w': 1, 'b': 1, 'c': 0, 'g': 1, 't': 2}\n",
      "{'s': 1, 'i': 1, 'h': 1, 'o': 0, ' ': 4, 'a': 2, 'r': 1, 'I': 1, 'w': 1, 'b': 1, 'c': 1, 'g': 1, 't': 2}\n",
      "{'s': 1, 'i': 1, 'h': 1, 'o': 1, ' ': 4, 'a': 2, 'r': 1, 'l': 0, 'I': 1, 'w': 1, 'b': 1, 'c': 1, 'g': 1, 't': 2}\n",
      "{'s': 1, 'i': 1, 'h': 1, 'o': 1, 'd': 0, ' ': 4, 'a': 2, 'r': 1, 'l': 1, 'I': 1, 'w': 1, 'b': 1, 'c': 1, 'g': 1, 't': 2}\n",
      "{'s': 1, 'i': 1, 'h': 1, 'o': 1, 'd': 1, ' ': 4, 'a': 2, 'r': 1, 'l': 1, 'I': 1, 'w': 1, 'b': 1, 'c': 1, 'g': 1, 't': 2}\n",
      "{'s': 1, 'i': 1, 'h': 1, 'o': 1, 'd': 1, ' ': 5, 'a': 2, 'r': 1, 'l': 1, 'I': 1, 'w': 1, 'b': 1, 'c': 1, 'g': 1, 't': 2}\n",
      "{'s': 1, 'i': 1, 'h': 1, 'o': 1, 'd': 2, ' ': 5, 'a': 2, 'r': 1, 'l': 1, 'I': 1, 'w': 1, 'b': 1, 'c': 1, 'g': 1, 't': 2}\n",
      "{'s': 1, 'i': 1, 'h': 1, 'o': 1, 'd': 2, ' ': 5, 'a': 3, 'r': 1, 'l': 1, 'I': 1, 'w': 1, 'b': 1, 'c': 1, 'y': 0, 'g': 1, 't': 2}\n",
      "{'s': 1, 'i': 1, 'h': 1, 'o': 1, 'd': 2, ' ': 5, 'a': 3, 'r': 1, 'l': 1, 'I': 1, 'w': 1, 'b': 1, 'c': 1, 'y': 1, 'g': 1, 't': 2}\n",
      "{'s': 1, 'i': 1, 'h': 1, 'o': 1, 'd': 2, ' ': 6, 'a': 3, 'r': 1, 'l': 1, 'I': 1, 'w': 1, 'b': 1, 'c': 1, 'y': 1, 'g': 1, 't': 2}\n",
      "{'s': 1, 'i': 2, 'h': 1, 'o': 1, 'n': 0, 'd': 2, ' ': 6, 'a': 3, 'r': 1, 'l': 1, 'I': 1, 'w': 1, 'b': 1, 'c': 1, 'y': 1, 'g': 1, 't': 2}\n",
      "{'s': 1, 'i': 2, 'h': 1, 'o': 1, 'n': 1, 'd': 2, ' ': 6, 'a': 3, 'r': 1, 'l': 1, 'I': 1, 'w': 1, 'b': 1, 'c': 1, 'y': 1, 'g': 1, 't': 2}\n",
      "{'s': 1, 'i': 2, 'h': 1, 'o': 1, 'n': 1, 'd': 2, 'A': 0, ' ': 7, 'a': 3, 'r': 1, 'l': 1, 'I': 1, 'w': 1, 'b': 1, 'c': 1, 'y': 1, 'g': 1, 't': 2}\n",
      "{'s': 1, 'i': 2, 'h': 1, 'o': 1, 'n': 1, 'd': 2, 'A': 1, ' ': 7, 'a': 3, 'r': 1, 'l': 1, 'I': 1, 'p': 0, 'w': 1, 'b': 1, 'c': 1, 'y': 1, 'g': 1, 't': 2}\n",
      "{'s': 1, 'i': 2, 'h': 1, 'o': 1, 'n': 1, 'd': 2, 'A': 1, ' ': 7, 'a': 3, 'r': 1, 'l': 1, 'I': 1, 'p': 1, 'w': 1, 'b': 1, 'c': 1, 'y': 1, 'g': 1, 't': 2}\n",
      "{'s': 1, 'i': 2, 'h': 1, 'o': 1, 'n': 1, 'd': 2, 'A': 1, ' ': 7, 'a': 3, 'r': 2, 'l': 1, 'I': 1, 'p': 1, 'w': 1, 'b': 1, 'c': 1, 'y': 1, 'g': 1, 't': 2}\n",
      "{'s': 1, 'i': 3, 'h': 1, 'o': 1, 'n': 1, 'd': 2, 'A': 1, ' ': 7, 'a': 3, 'r': 2, 'l': 1, 'I': 1, 'p': 1, 'w': 1, 'b': 1, 'c': 1, 'y': 1, 'g': 1, 't': 2}\n",
      "{'s': 1, 'i': 3, 'h': 1, 'o': 1, 'n': 1, 'd': 2, 'A': 1, ' ': 7, ',': 0, 'a': 3, 'r': 2, 'l': 2, 'I': 1, 'p': 1, 'w': 1, 'b': 1, 'c': 1, 'y': 1, 'g': 1, 't': 2}\n",
      "{'s': 1, 'i': 3, 'h': 1, 'o': 1, 'n': 1, 'd': 2, 'A': 1, ' ': 7, ',': 1, 'a': 3, 'r': 2, 'l': 2, 'I': 1, 'p': 1, 'w': 1, 'b': 1, 'c': 1, 'y': 1, 'g': 1, 't': 2}\n",
      "{'s': 1, 'i': 3, 'h': 1, 'o': 1, 'n': 1, 'd': 2, 'A': 1, ' ': 8, ',': 1, 'a': 3, 'r': 2, 'l': 2, 'I': 1, 'p': 1, 'w': 1, 'b': 1, 'c': 1, 'y': 1, 'g': 1, 't': 2}\n",
      "{'s': 1, 'i': 3, 'h': 1, 'o': 1, 'n': 1, 'd': 2, 'A': 1, ' ': 8, ',': 1, 'a': 4, 'r': 2, 'l': 2, 'I': 1, 'p': 1, 'w': 1, 'b': 1, 'c': 1, 'y': 1, 'g': 1, 't': 2}\n",
      "{'s': 1, 'i': 3, 'h': 1, 'o': 1, 'n': 2, 'd': 2, 'A': 1, ' ': 8, ',': 1, 'a': 4, 'r': 2, 'l': 2, 'I': 1, 'p': 1, 'w': 1, 'b': 1, 'c': 1, 'y': 1, 'g': 1, 't': 2}\n",
      "{'s': 1, 'i': 3, 'h': 1, 'o': 1, 'n': 2, 'd': 3, 'A': 1, ' ': 8, ',': 1, 'a': 4, 'r': 2, 'l': 2, 'I': 1, 'p': 1, 'w': 1, 'b': 1, 'c': 1, 'y': 1, 'g': 1, 't': 2}\n",
      "{'s': 1, 'i': 3, 'h': 1, 'o': 1, 'n': 2, 'd': 3, 'A': 1, ' ': 9, ',': 1, 'a': 4, 'r': 2, 'l': 2, 'I': 1, 'p': 1, 'w': 1, 'b': 1, 'c': 1, 'y': 1, 'g': 1, 't': 2}\n",
      "{'s': 1, 'i': 3, 'h': 1, 'o': 1, 'n': 2, 'd': 3, 'A': 1, ' ': 9, ',': 1, 'a': 4, 'r': 2, 'l': 2, 'I': 1, 'p': 1, 'w': 1, 'b': 1, 'c': 1, 'y': 1, 'g': 1, 't': 3}\n",
      "{'s': 1, 'i': 3, 'e': 0, 'h': 2, 'o': 1, 'n': 2, 'd': 3, 'A': 1, ' ': 9, ',': 1, 'a': 4, 'r': 2, 'l': 2, 'I': 1, 'p': 1, 'w': 1, 'b': 1, 'c': 1, 'y': 1, 'g': 1, 't': 3}\n",
      "{'s': 1, 'i': 3, 'e': 1, 'h': 2, 'o': 1, 'n': 2, 'd': 3, 'A': 1, ' ': 9, ',': 1, 'a': 4, 'r': 2, 'l': 2, 'I': 1, 'p': 1, 'w': 1, 'b': 1, 'c': 1, 'y': 1, 'g': 1, 't': 3}\n",
      "{'s': 1, 'i': 3, 'e': 1, 'h': 2, 'o': 1, 'n': 2, 'd': 3, 'A': 1, ' ': 10, ',': 1, 'a': 4, 'r': 2, 'l': 2, 'I': 1, 'p': 1, 'w': 1, 'b': 1, 'c': 1, 'y': 1, 'g': 1, 't': 3}\n",
      "{'s': 1, 'i': 3, 'e': 1, 'h': 2, 'o': 1, 'n': 2, 'd': 3, 'A': 1, ' ': 10, ',': 1, 'a': 4, 'r': 2, 'l': 2, 'I': 1, 'p': 1, 'w': 1, 'b': 1, 'c': 2, 'y': 1, 'g': 1, 't': 3}\n",
      "{'s': 1, 'i': 3, 'e': 1, 'h': 2, 'o': 1, 'n': 2, 'd': 3, 'A': 1, ' ': 10, ',': 1, 'a': 4, 'r': 2, 'l': 3, 'I': 1, 'p': 1, 'w': 1, 'b': 1, 'c': 2, 'y': 1, 'g': 1, 't': 3}\n",
      "{'s': 1, 'i': 3, 'e': 1, 'h': 2, 'o': 2, 'n': 2, 'd': 3, 'A': 1, ' ': 10, ',': 1, 'a': 4, 'r': 2, 'l': 3, 'I': 1, 'p': 1, 'w': 1, 'b': 1, 'c': 2, 'y': 1, 'g': 1, 't': 3}\n",
      "{'s': 1, 'w': 1, 'h': 2, 'o': 2, 'k': 0, 'a': 4, 'g': 1, 'd': 3, 'I': 1, 'p': 1, 'y': 1, 'e': 1, 'n': 2, 'b': 1, 'i': 3, ' ': 10, ',': 1, 'r': 2, 'l': 3, 'c': 3, 'A': 1, 't': 3}\n",
      "{'s': 1, 'w': 1, 'h': 2, 'o': 2, 'k': 1, 'a': 4, 'g': 1, 'd': 3, 'I': 1, 'p': 1, 'y': 1, 'e': 1, 'n': 2, 'b': 1, 'i': 3, ' ': 10, ',': 1, 'r': 2, 'l': 3, 'c': 3, 'A': 1, 't': 3}\n",
      "{'s': 2, 'w': 1, 'h': 2, 'o': 2, 'k': 1, 'a': 4, 'g': 1, 'd': 3, 'I': 1, 'p': 1, 'y': 1, 'e': 1, 'n': 2, 'b': 1, 'i': 3, ' ': 10, ',': 1, 'r': 2, 'l': 3, 'c': 3, 'A': 1, 't': 3}\n",
      "{'s': 2, 'w': 1, 'h': 2, 'o': 2, 'k': 1, 'a': 4, 'g': 1, 'd': 3, 'I': 1, 'p': 1, 'y': 1, 'e': 1, 'n': 2, 'b': 1, 'i': 3, ' ': 11, ',': 1, 'r': 2, 'l': 3, 'c': 3, 'A': 1, 't': 3}\n",
      "{'s': 2, 'w': 2, 'h': 2, 'o': 2, 'k': 1, 'a': 4, 'g': 1, 'd': 3, 'I': 1, 'p': 1, 'y': 1, 'e': 1, 'n': 2, 'b': 1, 'i': 3, ' ': 11, ',': 1, 'r': 2, 'l': 3, 'c': 3, 'A': 1, 't': 3}\n",
      "{'s': 2, 'w': 2, 'h': 2, 'o': 2, 'k': 1, 'a': 4, 'g': 1, 'd': 3, 'I': 1, 'p': 1, 'y': 1, 'e': 2, 'n': 2, 'b': 1, 'i': 3, ' ': 11, ',': 1, 'r': 2, 'l': 3, 'c': 3, 'A': 1, 't': 3}\n",
      "{'s': 2, 'w': 2, 'h': 2, 'o': 2, 'k': 1, 'a': 4, 'g': 1, 'd': 3, 'I': 1, 'p': 1, 'y': 1, 'e': 2, 'n': 2, 'b': 1, 'i': 3, ' ': 11, ',': 1, 'r': 3, 'l': 3, 'c': 3, 'A': 1, 't': 3}\n",
      "{'s': 2, 'w': 2, 'h': 2, 'o': 2, 'k': 1, 'a': 4, 'g': 1, 'd': 3, 'I': 1, 'p': 1, 'y': 1, 'e': 3, 'n': 2, 'b': 1, 'i': 3, ' ': 11, ',': 1, 'r': 3, 'l': 3, 'c': 3, 'A': 1, 't': 3}\n",
      "{'s': 2, 'w': 2, 'h': 2, 'o': 2, 'k': 1, 'a': 4, 'g': 1, 'd': 3, 'I': 1, 'p': 1, 'y': 1, 'e': 3, 'n': 2, 'b': 1, 'i': 3, ' ': 12, ',': 1, 'r': 3, 'l': 3, 'c': 3, 'A': 1, 't': 3}\n",
      "{'s': 3, 'w': 2, 'h': 2, 'o': 2, 'k': 1, 'a': 4, 'g': 1, 'd': 3, 'I': 1, 'p': 1, 'y': 1, 'e': 3, 'n': 2, 'b': 1, 'i': 3, ' ': 12, ',': 1, 'r': 3, 'l': 3, 'c': 3, 'A': 1, 't': 3}\n",
      "{'s': 3, 'w': 2, 'h': 2, 'o': 2, 'k': 1, 'a': 4, 'g': 1, 'd': 3, 'I': 1, 'p': 1, 'y': 1, 'e': 3, 'n': 2, 'b': 1, 'i': 3, ' ': 12, ',': 1, 'r': 3, 'l': 3, 'c': 3, 'A': 1, 't': 4}\n",
      "{'s': 3, 'w': 2, 'h': 2, 'o': 2, 'k': 1, 'a': 4, 'g': 1, 'd': 3, 'I': 1, 'p': 1, 'y': 1, 'e': 3, 'n': 2, 'b': 1, 'i': 3, ' ': 12, ',': 1, 'r': 4, 'l': 3, 'c': 3, 'A': 1, 't': 4}\n",
      "{'s': 3, 'w': 2, 'h': 2, 'o': 2, 'k': 1, 'a': 4, 'g': 1, 'd': 3, 'I': 1, 'p': 1, 'y': 1, 'e': 3, 'n': 2, 'b': 1, 'i': 4, ' ': 12, ',': 1, 'r': 4, 'l': 3, 'c': 3, 'A': 1, 't': 4}\n",
      "{'s': 3, 'w': 2, 'h': 2, 'o': 2, 'k': 2, 'a': 4, 'g': 1, 'd': 3, 'I': 1, 'p': 1, 'y': 1, 'e': 3, 'n': 2, 'b': 1, 'i': 4, ' ': 12, ',': 1, 'r': 4, 'l': 3, 'c': 3, 'A': 1, 't': 4}\n",
      "{'s': 3, 'w': 2, 'h': 2, 'o': 2, 'k': 2, 'a': 4, 'g': 1, 'd': 3, 'I': 1, 'p': 1, 'y': 1, 'e': 3, 'n': 2, 'b': 1, 'i': 5, ' ': 12, ',': 1, 'r': 4, 'l': 3, 'c': 3, 'A': 1, 't': 4}\n",
      "{'s': 3, 'w': 2, 'h': 2, 'o': 2, 'k': 2, 'a': 4, 'g': 1, 'd': 3, 'I': 1, 'p': 1, 'y': 1, 'e': 3, 'n': 3, 'b': 1, 'i': 5, ' ': 12, ',': 1, 'r': 4, 'l': 3, 'c': 3, 'A': 1, 't': 4}\n",
      "{'s': 3, 'w': 2, 'h': 2, 'o': 2, 'k': 2, 'a': 4, 'g': 2, 'd': 3, 'I': 1, 'p': 1, 'y': 1, 'e': 3, 'n': 3, 'b': 1, 'i': 5, ' ': 12, ',': 1, 'r': 4, 'l': 3, 'c': 3, 'A': 1, 't': 4}\n",
      "{'s': 3, 'w': 2, 'h': 2, 'o': 2, 'k': 2, 'a': 4, 'g': 2, 'd': 3, 'I': 1, 'p': 1, 'y': 1, 'e': 3, 'n': 3, 'b': 1, 'i': 5, ' ': 13, ',': 1, 'r': 4, 'l': 3, 'c': 3, 'A': 1, 't': 4}\n",
      "{'s': 3, 'w': 2, 'h': 2, 'o': 2, 'k': 2, 'a': 4, 'g': 2, 'd': 3, 'I': 1, 'p': 1, 'y': 1, 'e': 3, 'n': 3, 'b': 1, 'i': 5, ' ': 13, ',': 1, 'r': 4, 'l': 3, 'c': 3, 'A': 1, 't': 5}\n",
      "{'s': 3, 'w': 2, 'h': 3, 'o': 2, 'k': 2, 'a': 4, 'g': 2, 'd': 3, 'I': 1, 'p': 1, 'y': 1, 'e': 3, 'n': 3, 'b': 1, 'i': 5, ' ': 13, ',': 1, 'r': 4, 'l': 3, 'c': 3, 'A': 1, 't': 5}\n",
      "{'s': 3, 'w': 2, 'h': 3, 'o': 2, 'k': 2, 'a': 4, 'g': 2, 'd': 3, 'I': 1, 'p': 1, 'y': 1, 'e': 3, 'n': 3, 'b': 1, 'i': 6, ' ': 13, ',': 1, 'r': 4, 'l': 3, 'c': 3, 'A': 1, 't': 5}\n",
      "{'s': 3, 'w': 2, 'h': 3, 'o': 2, 'k': 2, 'a': 4, 'g': 2, 'd': 3, 'I': 1, 'p': 1, 'y': 1, 'e': 3, 'n': 3, 'b': 1, 'i': 6, ' ': 13, ',': 1, 'r': 5, 'l': 3, 'c': 3, 'A': 1, 't': 5}\n",
      "{'s': 3, 'w': 2, 'h': 3, 'o': 2, 'k': 2, 'a': 4, 'g': 2, 'd': 3, 'I': 1, 'p': 1, 'y': 1, 'e': 3, 'n': 3, 'b': 1, 'i': 6, ' ': 13, ',': 1, 'r': 5, 'l': 3, 'c': 3, 'A': 1, 't': 6}\n",
      "{'s': 3, 'w': 2, 'h': 3, 'o': 2, 'k': 2, 'a': 4, 'g': 2, 'd': 3, 'I': 1, 'p': 1, 'y': 1, 'e': 4, 'n': 3, 'b': 1, 'i': 6, ' ': 13, ',': 1, 'r': 5, 'l': 3, 'c': 3, 'A': 1, 't': 6}\n",
      "{'s': 3, 'w': 2, 'h': 3, 'o': 2, 'k': 2, 'a': 4, 'g': 2, 'd': 3, 'I': 1, 'p': 1, 'y': 1, 'e': 5, 'n': 3, 'b': 1, 'i': 6, ' ': 13, ',': 1, 'r': 5, 'l': 3, 'c': 3, 'A': 1, 't': 6}\n",
      "{'s': 3, 'w': 2, 'h': 3, 'o': 2, 'k': 2, 'a': 4, 'g': 2, 'd': 3, 'I': 1, 'p': 1, 'y': 1, 'e': 5, 'n': 4, 'b': 1, 'i': 6, '.': 0, ' ': 13, ',': 1, 'r': 5, 'l': 3, 'c': 3, 'A': 1, 't': 6}\n",
      "{'s': 3, 'w': 2, 'h': 3, 'o': 2, 'k': 2, 'a': 4, 'g': 2, 'd': 3, 'I': 1, 'p': 1, 'y': 1, 'e': 5, 'n': 4, 'b': 1, 'i': 6, '.': 1, ' ': 13, ',': 1, 'r': 5, 'l': 3, 'c': 3, 'A': 1, 't': 6}\n"
     ]
    }
   ],
   "source": [
    "message = 'It was a bright cold day in April, and the clocks were striking thirteen.'\n",
    "count = {}\n",
    "for character in message:\n",
    "    count.setdefault(character,0)\n",
    "    print(count)\n",
    "    count[character] = count[character]+1\n",
    "print(count)"
   ]
  },
  {
   "cell_type": "code",
   "execution_count": 39,
   "metadata": {
    "collapsed": false
   },
   "outputs": [
    {
     "name": "stdout",
     "output_type": "stream",
     "text": [
      "{' ': 13,\n",
      " ',': 1,\n",
      " '.': 1,\n",
      " 'A': 1,\n",
      " 'I': 1,\n",
      " 'a': 4,\n",
      " 'b': 1,\n",
      " 'c': 3,\n",
      " 'd': 3,\n",
      " 'e': 5,\n",
      " 'g': 2,\n",
      " 'h': 3,\n",
      " 'i': 6,\n",
      " 'k': 2,\n",
      " 'l': 3,\n",
      " 'n': 4,\n",
      " 'o': 2,\n",
      " 'p': 1,\n",
      " 'r': 5,\n",
      " 's': 3,\n",
      " 't': 6,\n",
      " 'w': 2,\n",
      " 'y': 1}\n"
     ]
    }
   ],
   "source": [
    "import pprint\n",
    "message = 'It was a bright cold day in April, and the clocks were striking thirteen.'\n",
    "count = {}\n",
    "for character in message:\n",
    "    count.setdefault(character,0)\n",
    "    count[character] = count[character]+1\n",
    "pprint.pprint(count)"
   ]
  },
  {
   "cell_type": "code",
   "execution_count": 42,
   "metadata": {
    "collapsed": false
   },
   "outputs": [
    {
     "name": "stdout",
     "output_type": "stream",
     "text": [
      "Number of things being brought: \n",
      " - Apples         7\n",
      " - Cups           3\n",
      " - Cakes          0\n",
      " - Ham            3\n",
      " - pie            1\n"
     ]
    }
   ],
   "source": [
    "allGuests = {'Alice': {'apples':5,'milk':3},\n",
    "             'Bob': {'ham':3,'apples':2},\n",
    "             'Carol': {'cups':3, 'pie':1}}\n",
    "def totalBrought(guests,item):\n",
    "    numBrought = 0  #reset value to zero\n",
    "    for k,v in guests.items():\n",
    "        numBrought = numBrought+v.get(item,0)\n",
    "    return numBrought\n",
    "\n",
    "print(\"Number of things being brought: \")\n",
    "print(\" - Apples         \" +str(totalBrought(allGuests,'apples')))\n",
    "print(' - Cups           ' + str(totalBrought(allGuests, 'cups')))\n",
    "print(' - Cakes          ' + str(totalBrought(allGuests, 'cakes')))\n",
    "print(' - Ham            ' + str(totalBrought(allGuests, 'ham')))\n",
    "print(' - pie            ' + str(totalBrought(allGuests, 'pie')))"
   ]
  },
  {
   "cell_type": "code",
   "execution_count": null,
   "metadata": {
    "collapsed": true
   },
   "outputs": [],
   "source": []
  }
 ],
 "metadata": {
  "anaconda-cloud": {},
  "kernelspec": {
   "display_name": "Python [default]",
   "language": "python",
   "name": "python3"
  },
  "language_info": {
   "codemirror_mode": {
    "name": "ipython",
    "version": 3
   },
   "file_extension": ".py",
   "mimetype": "text/x-python",
   "name": "python",
   "nbconvert_exporter": "python",
   "pygments_lexer": "ipython3",
   "version": "3.5.2"
  }
 },
 "nbformat": 4,
 "nbformat_minor": 1
}
